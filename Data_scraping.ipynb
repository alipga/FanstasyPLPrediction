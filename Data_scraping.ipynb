{
 "cells": [
  {
   "cell_type": "code",
   "execution_count": 1,
   "metadata": {},
   "outputs": [],
   "source": [
    "import pandas as pd\n",
    "from bs4 import BeautifulSoup\n",
    "import bs4\n",
    "import requests\n",
    "import json\n",
    "import matplotlib.pyplot as plt\n",
    "import numpy as np\n",
    "import unidecode"
   ]
  },
  {
   "cell_type": "code",
   "execution_count": 2,
   "metadata": {},
   "outputs": [
    {
     "data": {
      "text/plain": [
       "{'chance_of_playing_next_round': None,\n",
       " 'chance_of_playing_this_round': None,\n",
       " 'code': 69140,\n",
       " 'cost_change_event': 0,\n",
       " 'cost_change_event_fall': 0,\n",
       " 'cost_change_start': -3,\n",
       " 'cost_change_start_fall': 3,\n",
       " 'dreamteam_count': 0,\n",
       " 'element_type': 2,\n",
       " 'ep_next': '1.0',\n",
       " 'ep_this': '0.5',\n",
       " 'event_points': 0,\n",
       " 'first_name': 'Shkodran',\n",
       " 'form': '0.0',\n",
       " 'id': 1,\n",
       " 'in_dreamteam': False,\n",
       " 'news': '',\n",
       " 'news_added': None,\n",
       " 'now_cost': 52,\n",
       " 'photo': '69140.jpg',\n",
       " 'points_per_game': '0.0',\n",
       " 'second_name': 'Mustafi',\n",
       " 'selected_by_percent': '0.3',\n",
       " 'special': False,\n",
       " 'squad_number': None,\n",
       " 'status': 'a',\n",
       " 'team': 1,\n",
       " 'team_code': 3,\n",
       " 'total_points': 0,\n",
       " 'transfers_in': 6965,\n",
       " 'transfers_in_event': 224,\n",
       " 'transfers_out': 29924,\n",
       " 'transfers_out_event': 581,\n",
       " 'value_form': '0.0',\n",
       " 'value_season': '0.0',\n",
       " 'web_name': 'Mustafi',\n",
       " 'minutes': 0,\n",
       " 'goals_scored': 0,\n",
       " 'assists': 0,\n",
       " 'clean_sheets': 0,\n",
       " 'goals_conceded': 0,\n",
       " 'own_goals': 0,\n",
       " 'penalties_saved': 0,\n",
       " 'penalties_missed': 0,\n",
       " 'yellow_cards': 0,\n",
       " 'red_cards': 0,\n",
       " 'saves': 0,\n",
       " 'bonus': 0,\n",
       " 'bps': 0,\n",
       " 'influence': '0.0',\n",
       " 'creativity': '0.0',\n",
       " 'threat': '0.0',\n",
       " 'ict_index': '0.0'}"
      ]
     },
     "execution_count": 2,
     "metadata": {},
     "output_type": "execute_result"
    }
   ],
   "source": [
    "url = \"https://fantasy.premierleague.com/api/bootstrap-static/\"\n",
    "r  = requests.get(url)\n",
    "data = json.loads(r.text)\n",
    "all_players = data['elements']\n",
    "all_players[0]"
   ]
  },
  {
   "cell_type": "code",
   "execution_count": 3,
   "metadata": {},
   "outputs": [],
   "source": [
    "a = pd.DataFrame.from_dict(all_players)"
   ]
  },
  {
   "cell_type": "code",
   "execution_count": 5,
   "metadata": {},
   "outputs": [],
   "source": [
    "s = a[['id','web_name','element_type','team','now_cost']]\n",
    "s.to_csv('elements.csv')\n",
    "teams = pd.DataFrame.from_dict(data['teams'])\n",
    "teams.to_csv('teams.csv')"
   ]
  },
  {
   "cell_type": "code",
   "execution_count": 7,
   "metadata": {},
   "outputs": [
    {
     "name": "stdout",
     "output_type": "stream",
     "text": [
      "dict_keys(['events', 'game_settings', 'phases', 'teams', 'total_players', 'elements', 'element_stats', 'element_types'])\n",
      "[{'label': 'Minutes played', 'name': 'minutes'}, {'label': 'Goals scored', 'name': 'goals_scored'}, {'label': 'Assists', 'name': 'assists'}, {'label': 'Clean sheets', 'name': 'clean_sheets'}, {'label': 'Goals conceded', 'name': 'goals_conceded'}, {'label': 'Own goals', 'name': 'own_goals'}, {'label': 'Penalties saved', 'name': 'penalties_saved'}, {'label': 'Penalties missed', 'name': 'penalties_missed'}, {'label': 'Yellow cards', 'name': 'yellow_cards'}, {'label': 'Red cards', 'name': 'red_cards'}, {'label': 'Saves', 'name': 'saves'}, {'label': 'Bonus', 'name': 'bonus'}, {'label': 'Bonus Points System', 'name': 'bps'}, {'label': 'Influence', 'name': 'influence'}, {'label': 'Creativity', 'name': 'creativity'}, {'label': 'Threat', 'name': 'threat'}, {'label': 'ICT Index', 'name': 'ict_index'}]\n",
      "elements\n",
      "[{'id': 1, 'plural_name': 'Goalkeepers', 'plural_name_short': 'GKP', 'singular_name': 'Goalkeeper', 'singular_name_short': 'GKP', 'squad_select': 2, 'squad_min_play': 1, 'squad_max_play': 1, 'ui_shirt_specific': True, 'sub_positions_locked': [12]}, {'id': 2, 'plural_name': 'Defenders', 'plural_name_short': 'DEF', 'singular_name': 'Defender', 'singular_name_short': 'DEF', 'squad_select': 5, 'squad_min_play': 3, 'squad_max_play': 5, 'ui_shirt_specific': False, 'sub_positions_locked': []}, {'id': 3, 'plural_name': 'Midfielders', 'plural_name_short': 'MID', 'singular_name': 'Midfielder', 'singular_name_short': 'MID', 'squad_select': 5, 'squad_min_play': 2, 'squad_max_play': 5, 'ui_shirt_specific': False, 'sub_positions_locked': []}, {'id': 4, 'plural_name': 'Forwards', 'plural_name_short': 'FWD', 'singular_name': 'Forward', 'singular_name_short': 'FWD', 'squad_select': 3, 'squad_min_play': 1, 'squad_max_play': 3, 'ui_shirt_specific': False, 'sub_positions_locked': []}]\n"
     ]
    }
   ],
   "source": [
    "print(data.keys())\n",
    "# print(data['total_players'])\n",
    "# print(data['teams'])\n",
    "print(data['element_stats'])\n",
    "print('elements')\n",
    "print(data['element_types'])"
   ]
  },
  {
   "cell_type": "code",
   "execution_count": null,
   "metadata": {},
   "outputs": [],
   "source": [
    "player_dict = {}\n",
    "for i in all_players:\n",
    "    player_dict[i['id']] = i['web_name']\n",
    "player_dict"
   ]
  },
  {
   "cell_type": "code",
   "execution_count": null,
   "metadata": {},
   "outputs": [],
   "source": [
    "# s = pd.DataFrame.from_dict(player_dict.items())\n",
    "# s.columns =['ID','name']\n",
    "# s.to_csv('player_ID.csv')\n",
    "# s.shape"
   ]
  },
  {
   "cell_type": "code",
   "execution_count": null,
   "metadata": {},
   "outputs": [],
   "source": [
    "players_raw=[]\n",
    "for i in player_dict:\n",
    "    url = 'https://fantasy.premierleague.com/api/element-summary/{}/'.format(i)\n",
    "    r  = requests.get(url)\n",
    "    data = json.loads(r.text)\n",
    "    data['ID'] = i\n",
    "#     print(data.keys())\n",
    "    players_raw.append(data)\n"
   ]
  },
  {
   "cell_type": "code",
   "execution_count": null,
   "metadata": {},
   "outputs": [],
   "source": [
    "raw = pd.DataFrame(players_raw)\n",
    "raw.to_csv('raw_players.csv')\n",
    "raw.shape"
   ]
  },
  {
   "cell_type": "code",
   "execution_count": null,
   "metadata": {},
   "outputs": [],
   "source": [
    "for i in range(raw.shape[0]):\n",
    "    history = pd.DataFrame.from_dict(raw.loc[i,'history'])\n",
    "    past = pd.DataFrame.from_dict(raw.loc[i,'history_past'])\n",
    "    fixtures = pd.DataFrame.from_dict(raw.loc[i,'fixtures'])\n",
    "    past.to_csv('past/{}.csv'.format(raw.loc[i,'ID']))\n",
    "    history.to_csv('history/{}.csv'.format(raw.loc[i,'ID']))\n",
    "    fixtures.to_csv('fixtures/{}.csv'.format(raw.loc[i,'ID']))\n",
    "print(raw.index)"
   ]
  },
  {
   "cell_type": "code",
   "execution_count": null,
   "metadata": {},
   "outputs": [],
   "source": [
    "raw.columns"
   ]
  }
 ],
 "metadata": {
  "kernelspec": {
   "display_name": "Python 3",
   "language": "python",
   "name": "python3"
  },
  "language_info": {
   "codemirror_mode": {
    "name": "ipython",
    "version": 3
   },
   "file_extension": ".py",
   "mimetype": "text/x-python",
   "name": "python",
   "nbconvert_exporter": "python",
   "pygments_lexer": "ipython3",
   "version": "3.7.3"
  }
 },
 "nbformat": 4,
 "nbformat_minor": 2
}
